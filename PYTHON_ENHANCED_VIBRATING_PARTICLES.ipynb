{
  "nbformat": 4,
  "nbformat_minor": 0,
  "metadata": {
    "colab": {
      "provenance": []
    },
    "kernelspec": {
      "name": "python3",
      "display_name": "Python 3"
    },
    "language_info": {
      "name": "python"
    }
  },
  "cells": [
    {
      "cell_type": "markdown",
      "source": [
        "#**Initialize Variable**"
      ],
      "metadata": {
        "id": "QYDE2op7IqsI"
      }
    },
    {
      "cell_type": "code",
      "execution_count": null,
      "metadata": {
        "id": "mhSm3z4UIRQd"
      },
      "outputs": [],
      "source": [
        "import numpy as np\n",
        "import random\n",
        "\n",
        "popSize=50  #Size of the population\n",
        "nVar=4;     # Number of optimization variables\n",
        "maxIt=1000; # Maximum number of iteration\n",
        "xMin=-100;  # Lower bound of the variables\n",
        "xMax=100;   # Upper bound of the variables\n",
        "alpha=0.05;\n",
        "w1=0.3;\n",
        "w2=0.3;\n",
        "w3=1-w1-w2;\n",
        "p=0.2;      # With the probability of (1-p) the effect of BP\n",
        "#is ignored in updating\n",
        "PAR=0.1;\n",
        "HMCR=0.95;\n",
        "Memorysize=4;"
      ]
    },
    {
      "cell_type": "markdown",
      "source": [
        "#**Parameter**"
      ],
      "metadata": {
        "id": "T5VBsonwIzyj"
      }
    },
    {
      "cell_type": "code",
      "source": [
        "result=np.zeros((popSize,nVar+1))\n",
        "Memory=np.zeros((Memorysize,nVar+1))\n",
        "neighbor=0.1 #Parameters for handling the side\n",
        "#constraints\n",
        "#Initializing particles\n",
        "position = xMin+ np.random.rand( popSize,nVar) * (xMax-xMin)\n",
        "print(position.shape)\n",
        "print(position)"
      ],
      "metadata": {
        "id": "Z3NkikeUI2eC",
        "colab": {
          "base_uri": "https://localhost:8080/"
        },
        "outputId": "c0c34cf7-1a9c-4fa6-86d3-68e2398a6d11"
      },
      "execution_count": null,
      "outputs": [
        {
          "output_type": "stream",
          "name": "stdout",
          "text": [
            "(50, 4)\n",
            "[[-44.93182716  94.32746765 -86.79729854 -42.66617454]\n",
            " [-84.89668862  79.37771308  85.30347464 -11.36147869]\n",
            " [-46.79126046  37.11030498  14.57817433 -65.60653273]\n",
            " [-41.15882277 -92.96358238 -31.31627722   5.57083745]\n",
            " [-49.58488121   3.868276     6.48190794 -36.85060159]\n",
            " [ 15.08266041  55.70961324  33.06986903 -48.82656825]\n",
            " [ 41.88827409 -14.58732604  16.12526837  28.18280012]\n",
            " [-82.92828823  61.79568799  76.08532522 -78.49657649]\n",
            " [-90.82550954 -67.82231149  -3.03562815   0.59414108]\n",
            " [ 60.52494558 -65.67116448  35.24747464 -91.55570254]\n",
            " [-69.84298138  38.957471     6.6450449   54.78714743]\n",
            " [-20.2567603  -49.43215925 -88.8291806  -41.66071243]\n",
            " [ 46.23909814 -55.61790962  29.08231257  54.47277947]\n",
            " [-74.59765411  88.3047232   62.79153518  58.01777264]\n",
            " [-49.58911354  28.40491233  24.42095238 -73.94361415]\n",
            " [-71.38462941   4.95150057 -58.77394187  81.55309139]\n",
            " [ -9.652527   -20.50201538  83.9828951  -12.78268003]\n",
            " [-49.97041357   3.07897626 -95.57055659 -77.57733095]\n",
            " [-97.48494579 -96.54267721 -87.95875048  21.30320445]\n",
            " [-96.87757711 -21.2587554  -47.21485809 -71.39252142]\n",
            " [-15.60447969 -88.42033476 -65.63707267  64.1259515 ]\n",
            " [ 13.2341154   69.50702623 -21.204902     7.56991674]\n",
            " [ 33.04327142 -45.75253616  91.60085265  81.97722461]\n",
            " [-22.71827761 -93.03082365  98.78405371  90.89262724]\n",
            " [ 37.86232785  42.81812654  15.26935746  68.35818039]\n",
            " [ 86.89175768  21.57414138 -95.52584826  22.77688156]\n",
            " [ 28.97859653 -67.35181297  25.85401397 -54.82852071]\n",
            " [ 52.1235143   52.77033974  41.61463909 -95.16978269]\n",
            " [-59.34753766 -22.13189399 -81.8559814  -20.45854311]\n",
            " [ 39.53294877 -80.20682007 -13.17666739   0.7281647 ]\n",
            " [-58.00481382 -53.22350745 -73.14770333 -14.59144699]\n",
            " [ 20.57744149 -36.40118661  89.77045268 -95.39070372]\n",
            " [ 85.91765536  54.27308327 -77.97960372  61.18347082]\n",
            " [-13.10575131  -2.32954161 -62.03763983 -58.3710953 ]\n",
            " [-18.59276687 -93.17803074 -97.72078866  -2.37749586]\n",
            " [ 21.70615348  47.16642475  30.15475363  52.75092481]\n",
            " [ 73.45779441  98.07834452 -51.72412828  -5.01966275]\n",
            " [-13.88273744 -57.36817332 -81.89658677 -78.01019559]\n",
            " [ 64.87032307  64.52608323  87.09892661 -38.59884262]\n",
            " [-22.71882649  51.83056651  63.12157432 -61.20662152]\n",
            " [-66.51268614 -91.02115233 -68.94234093 -64.94517668]\n",
            " [ 73.63888589 -69.44135675 -39.87921118 -41.0516026 ]\n",
            " [-68.55819573 -20.85655762  44.12808562 -20.79717988]\n",
            " [  2.48040403 -43.13850015 -32.3707025   96.93732467]\n",
            " [-60.64573684   6.96374387  44.66562249 -98.15959856]\n",
            " [-38.33990726 -49.47889693  22.72484322  45.65071751]\n",
            " [-78.08697817  41.02589099  60.60974344  35.95031888]\n",
            " [-66.54954901   0.99817362  50.85363959 -39.55512315]\n",
            " [-11.81319314   5.08084961  -3.69455567  82.7931426 ]\n",
            " [ 49.83004456  87.43356198 -80.66705702  22.54466724]]\n"
          ]
        }
      ]
    },
    {
      "cell_type": "code",
      "source": [
        "import math\n",
        "def SphereFun(x):\n",
        "  #If there is any violation:\n",
        "  #Penalty=sum of violations\n",
        "  #CP=Coefficient of penalty\n",
        "  #penalizedWeight=sum(x.^2)*(1+CP*Penalty);\n",
        "  penalizedWeight=(math.pow(np.array(x[0]),2))+(math.pow(np.array(x[1]),2))+(math.pow(np.array(x[2]),2))+(math.pow(np.array(x[3]),2))\n",
        "  #weight=sum(math.pow(np.array(x),2))\n",
        "  return penalizedWeight"
      ],
      "metadata": {
        "id": "1rKmx41uNoYx"
      },
      "execution_count": null,
      "outputs": []
    },
    {
      "cell_type": "code",
      "source": [
        "#YOUR_LIST=[1  2 3   4]\n",
        "#a=np.array(YOUR_LIST)\n",
        "print(position[1,:])\n",
        "b=list(position[1,:])\n",
        "#print(list(position[1,:]))\n",
        "#print(math.pow(position[1,:],2))\n",
        "print(math.pow(position[1,1],2))"
      ],
      "metadata": {
        "colab": {
          "base_uri": "https://localhost:8080/"
        },
        "id": "EngFIhBU7sAk",
        "outputId": "b683877e-076a-4142-d21e-3ede84a6174b"
      },
      "execution_count": null,
      "outputs": [
        {
          "output_type": "stream",
          "name": "stdout",
          "text": [
            "[-84.89668862  79.37771308  85.30347464 -11.36147869]\n",
            "6300.821334117036\n"
          ]
        }
      ]
    },
    {
      "cell_type": "code",
      "source": [
        "#Search\n",
        "agentCost=np.zeros((popSize,3)) #Array of agent costs\n",
        "HBV=np.zeros((popSize,nVar+2))       # Historically best matrix\n",
        "m=0\n",
        "iter=0\n",
        "a=np.zeros((1,4))       # Historically best matrix\n",
        "for iter in range(maxIt):\n",
        "  #Evaluating and storing\n",
        "  for m in range(popSize-1):\n",
        "    penalizedWeight=SphereFun(position[m,:])\n",
        "    weight=SphereFun(position[m,:])\n",
        "    agentCost[m,0]=penalizedWeight\n",
        "    agentCost[m,1]=m\n",
        "    agentCost[m,2]=weight\n",
        "\n",
        "\n",
        "  sortedAgentCost=agentCost.sort()\n",
        "  for m in range(popSize-1):\n",
        "    if iter==1 or agentCost[m,0]<HBV[m,0]:\n",
        "      HBV[m,0]=agentCost[m,0];\n",
        "      HBV[m,1]=agentCost[m,2];\n",
        "      for n in range(nVar):\n",
        "        HBV[m,n+1]=position[m,n]\n",
        "  HBV.sort()\n",
        "  result[iter,1]=HBV[1,1]\n",
        "  result[iter,2:nVar+1]=HBV[1,3:nVar+2]\n"
      ],
      "metadata": {
        "id": "qAmLDkBcMNfQ"
      },
      "execution_count": null,
      "outputs": []
    },
    {
      "cell_type": "code",
      "source": [
        " weight=SphereFun(position[m,:])\n",
        "    #Evaluating the objective function for each particle\n",
        "    agentCost[m,1]=penalizedWeight\n",
        "    agentCost[m,2]=m\n",
        "    agentCost[m,3]=weight\n",
        "\n",
        "\n",
        "\n",
        "sortedAgentCost=sortrows(agentCost);\n",
        "for m in popSize:\n",
        "if iter==1 || agentCost(m,1)<HBV(m,1)\n",
        "HBV(m,1)=agentCost(m,1);\n",
        "HBV(m,2)=agentCost(m,3);\n",
        "for n=1:nVar\n",
        "HBV(m,n+2)=position(m,n);\n",
        "end\n",
        "end\n",
        "end\n",
        "sortedHBV=sortrows(HBV);\n",
        "result(iter,1)=sortedHBV(1,1);\n",
        "result(iter,2:nVar+1)=sortedHBV(1,3:nVar+2);\n",
        "if iter==1\n",
        " for i=1:Memorysize\n",
        " Memory(i,1)=sortedHBV(i,1);\n",
        " Memory(i,2:nVar+1)=sortedHBV(i,3:nVar+2);\n",
        " end\n",
        "end\n",
        "if Memory(Memorysize,1)>sortedHBV(1,1)\n",
        " Memory(Memorysize,1)=sortedHBV(1,1);\n",
        " Memory(Memorysize,2:nVar+1)=sortedHBV(1,3:nVar+2);\n",
        "end\n",
        "Memory=sortrows(Memory);\n",
        "% Updating particle positions\n",
        "D=(iter/maxIt)^(-alpha);\n",
        "for m=1:popSize\n",
        "temp1=ceil(unifrnd(1,popSize/2,1));\n",
        "temp2=ceil(unifrnd(popSize/2,popSize,1));\n",
        "temp11=round(unifrnd(1,Memorysize,1));\n",
        " if p<rand\n",
        " w3=0;\n",
        " w2=1-w1;\n",
        " end\n",
        " for n=1:nVar\n",
        " if rand<w3\n",
        " A(m,n)=(-1)^(ceil(randn()))*(position(sortedAgentCost(temp2,2),n)-position(m,n));\n",
        "position(m,n)=D*A(m,n)*rand+position(sortedAgentCost(temp2,2),n);\n",
        " elseif rand<w2\n",
        " A(m,n)=(-1)^(ceil(randn()))*(position(sortedAgentCost(temp1,2),n)-position(m,n));\n",
        "position(m,n)=D*A(m,n)*rand+position(sortedAgentCost(temp1,2),n);\n",
        " else\n",
        " A(m,n)=(-1)^(ceil(randn()))*(Memory(temp11,1+n)-position(m,n));\n",
        " position(m,n)=D*A(m,n)*rand+Memory(temp11,1+n);\n",
        " end\n",
        "end\n",
        "w2=0.3;w3=1-w1-w2;\n",
        "end\n",
        "% Handling the side constraints\n",
        "for m=1:popSize\n",
        " for n=1:nVar\n",
        "if position(m,n)<xMin || position(m,n)>xMax\n",
        "temp1=rand;temp2=rand;temp3=ceil(rand*popSize);\n",
        "if temp1<=HMCR && temp2<=(1-PAR)\n",
        "position(m,n)=sortedHBV(temp3,2+n);\n",
        "elseif temp1<=HMCR && temp2>(1-PAR)\n",
        "position(m,n)=sortedHBV(temp3,2+n)+neighbor;\n",
        "if position(m,n)>xMax\n",
        "position(m,n)=sortedHBV(temp3,2+n)-2*neighbor;\n",
        "end\n",
        "else\n",
        "position(m,n)=xMin+(rand*(xMax-xMin));\n",
        "end\n",
        "end\n",
        "end\n",
        "end\n",
        "iter\n",
        "sortedHBV(1,1)\n",
        "end\n",
        "% Saving the results\n",
        "xlswrite('result.xls',result);\n"
      ],
      "metadata": {
        "id": "Jm7v-ytBPCG-"
      },
      "execution_count": null,
      "outputs": []
    }
  ]
}